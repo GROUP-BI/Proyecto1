{
  "cells": [
    {
      "cell_type": "markdown",
      "metadata": {
        "id": "ece9b33d-02bd-44a3-8601-9e7d6cf2d6f2"
      },
      "source": [
        "# Proyecto: Preparación y Transformación de Datos para Detección de Noticias Falsas\n",
        "\n"
      ]
    },
    {
      "cell_type": "markdown",
      "metadata": {
        "id": "b4b43e44-0f5f-4677-9b72-4f0a45f08493"
      },
      "source": [
        "## 1. Importación de Librerías y Configuración\n",
        "\n",
        "Se importan las librerías esenciales para la manipulación de datos, visualización y procesamiento de textos. Además, se configuran las stopwords de NLTK y el stemmer para español."
      ]
    },
    {
      "cell_type": "code",
      "execution_count": 3,
      "metadata": {
        "colab": {
          "base_uri": "https://localhost:8080/"
        },
        "id": "6d0f46d2-5f0e-4da0-9e66-c1c97e8c75d2",
        "outputId": "7a46e55d-a66a-4ea7-b2a6-3dadce166d69"
      },
      "outputs": [
        {
          "name": "stderr",
          "output_type": "stream",
          "text": [
            "[nltk_data] Downloading package stopwords to\n",
            "[nltk_data]     /Users/jcedielb/nltk_data...\n",
            "[nltk_data]   Package stopwords is already up-to-date!\n"
          ]
        }
      ],
      "source": [
        "import pandas as pd             # Manipulación de datos\n",
        "import numpy as np              # Operaciones numéricas\n",
        "import matplotlib.pyplot as plt # Visualizaciones\n",
        "import seaborn as sns           # Gráficos estadísticos\n",
        "import re                       # Expresiones regulares\n",
        "import nltk                     # Procesamiento de lenguaje natural\n",
        "\n",
        "# Descargar stopwords (solo la primera vez)\n",
        "nltk.download('stopwords')\n",
        "from nltk.corpus import stopwords\n",
        "\n",
        "# SnowballStemmer para español\n",
        "from nltk.stem.snowball import SnowballStemmer\n",
        "\n",
        "# Configuración de stopwords y stemmer\n",
        "stop_words = set(stopwords.words('spanish'))\n",
        "stemmer = SnowballStemmer('spanish')\n",
        "\n",
        "# Configurar estilo para gráficos\n",
        "sns.set(style='whitegrid')"
      ]
    },
    {
      "cell_type": "markdown",
      "metadata": {
        "id": "e2ad7087-47cb-4c51-92b4-6b65f58a6e89"
      },
      "source": [
        "## 2. Funciones para Limpieza y Procesamiento de Textos\n",
        "\n",
        "Se definen dos funciones fundamentales:\n",
        "\n",
        "- **clean_text(text)**: Convierte el texto a minúsculas, elimina URLs, elimina caracteres no alfabéticos (dejando acentos y ñ) y quita espacios extra.\n",
        "- **process_text(text)**: Utiliza `clean_text` para limpiar el texto, lo tokeniza (por separación de espacios), elimina stopwords y aplica stemming para obtener la raíz de cada palabra.\n",
        "\n",
        "Estas funciones permiten transformar el texto de forma que se eliminen prefijos y sufijos innecesarios, dejando las palabras en su forma base."
      ]
    },
    {
      "cell_type": "code",
      "execution_count": 4,
      "metadata": {
        "id": "1b315cd8-054f-4ac7-8a73-0a18fefb83da"
      },
      "outputs": [],
      "source": [
        "def clean_text(text):\n",
        "    \"\"\"\n",
        "    Limpia el texto realizando:\n",
        "      - Conversión a minúsculas\n",
        "      - Eliminación de URLs\n",
        "      - Eliminación de caracteres que no sean letras (se conservan acentos y ñ)\n",
        "      - Eliminación de espacios extra\n",
        "    \"\"\"\n",
        "    if pd.isnull(text):\n",
        "        return \"\"\n",
        "    text = text.lower()\n",
        "    text = re.sub(r'http\\S+', '', text)  # Elimina URLs\n",
        "    text = re.sub(r'[^a-záéíóúñ\\s]', '', text)  # Conserva solo letras y espacios\n",
        "    text = re.sub(r'\\s+', ' ', text).strip()  # Elimina espacios extra\n",
        "    return text\n",
        "\n",
        "def process_text(text):\n",
        "    \"\"\"\n",
        "    Procesa el texto aplicando:\n",
        "      - Limpieza básica (clean_text)\n",
        "      - Tokenización (separa palabras)\n",
        "      - Eliminación de stopwords\n",
        "      - Aplicación de stemming para obtener la raíz de cada palabra\n",
        "    \"\"\"\n",
        "    if pd.isnull(text):\n",
        "        return \"\"\n",
        "    text = clean_text(text)\n",
        "    words = text.split()\n",
        "    # Aplicar stemming y eliminar stopwords\n",
        "    words = [stemmer.stem(word) for word in words if word not in stop_words]\n",
        "    return \" \".join(words)"
      ]
    },
    {
      "cell_type": "markdown",
      "metadata": {
        "id": "9d2e8c3f-3f2e-4a1a-b72b-2c0f3ac4a3e5"
      },
      "source": [
        "## 3. Gestión y Análisis de Datos\n",
        "\n",
        "### 3.1 Descarga y Exploración del Conjunto de Datos\n",
        "\n",
        "Se carga el dataset (se asume que está en `fake_news_spanish.csv`) y se exploran sus dimensiones, primeras filas, información general y la cantidad de valores nulos. También se identifican las fuentes de datos (si la columna existe)."
      ]
    },
    {
      "cell_type": "code",
      "execution_count": 6,
      "metadata": {
        "colab": {
          "base_uri": "https://localhost:8080/"
        },
        "id": "6f5e33b9-4e2c-45df-9b74-5d03b8735c9c",
        "outputId": "b7401786-3ac1-4efa-8353-f4d43bf95855"
      },
      "outputs": [
        {
          "name": "stdout",
          "output_type": "stream",
          "text": [
            "Dimensiones del dataset: (57063, 5)\n",
            "Primeras 5 filas:\n",
            "   ID  Label                                             Titulo  \\\n",
            "0  ID      1  'The Guardian' va con Sánchez: 'Europa necesit...   \n",
            "1  ID      0  REVELAN QUE EL GOBIERNO NEGOCIO LA LIBERACIÓN ...   \n",
            "2  ID      1  El 'Ahora o nunca' de Joan Fuster sobre el est...   \n",
            "3  ID      1  Iglesias alienta a Yolanda Díaz, ERC y EH Bild...   \n",
            "4  ID      0  Puigdemont: 'No sería ninguna tragedia una rep...   \n",
            "\n",
            "                                         Descripcion       Fecha  \n",
            "0  El diario británico publicó este pasado jueves...  02/06/2023  \n",
            "1  REVELAN QUE EL GOBIERNO NEGOCIO LA LIBERACIÓN ...  01/10/2023  \n",
            "2  El valencianismo convoca en Castelló su fiesta...  25/04/2022  \n",
            "3  En política, igual que hay que negociar con lo...  03/01/2022  \n",
            "4  En una entrevista en El Punt Avui, el líder de...  09/03/2018  \n",
            "Información del dataset:\n",
            "<class 'pandas.core.frame.DataFrame'>\n",
            "RangeIndex: 57063 entries, 0 to 57062\n",
            "Data columns (total 5 columns):\n",
            " #   Column       Non-Null Count  Dtype \n",
            "---  ------       --------------  ----- \n",
            " 0   ID           57063 non-null  object\n",
            " 1   Label        57063 non-null  int64 \n",
            " 2   Titulo       57047 non-null  object\n",
            " 3   Descripcion  57063 non-null  object\n",
            " 4   Fecha        57063 non-null  object\n",
            "dtypes: int64(1), object(4)\n",
            "memory usage: 2.2+ MB\n",
            "None\n",
            "Valores nulos por columna:\n",
            "ID              0\n",
            "Label           0\n",
            "Titulo         16\n",
            "Descripcion     0\n",
            "Fecha           0\n",
            "dtype: int64\n",
            "No se encontró la columna de fuentes de datos.\n"
          ]
        }
      ],
      "source": [
        "# Ajusta la ruta y el separador según el formato del CSV\n",
        "ruta = 'fake_news_spanish.csv'\n",
        "df = pd.read_csv(ruta, sep=';', encoding='utf-8')\n",
        "\n",
        "print('Dimensiones del dataset:', df.shape)\n",
        "print('Primeras 5 filas:')\n",
        "print(df.head())\n",
        "\n",
        "print('Información del dataset:')\n",
        "print(df.info())\n",
        "\n",
        "print('Valores nulos por columna:')\n",
        "print(df.isnull().sum())\n",
        "\n",
        "# Si existe la columna 'source', mostrar las fuentes disponibles\n",
        "if 'source' in df.columns:\n",
        "    print('Fuentes de datos:', df['source'].unique())\n",
        "else:\n",
        "    print('No se encontró la columna de fuentes de datos.')"
      ]
    },
    {
      "cell_type": "markdown",
      "metadata": {
        "id": "86b7eb89-75af-4b90-9781-140f969a6a66"
      },
      "source": [
        "### 3.2 Análisis Exploratorio\n",
        "\n",
        "Se realizan estadísticas descriptivas y se generan gráficos y tablas para identificar valores atípicos y datos faltantes. Además, se distinguen las variables numéricas (por ejemplo, la longitud del contenido) de las categóricas (por ejemplo, Titulo, Descripcion, label, source, etc.)."
      ]
    },
    {
      "cell_type": "code",
      "execution_count": 7,
      "metadata": {
        "colab": {
          "base_uri": "https://localhost:8080/",
          "height": 674
        },
        "id": "3e83e21d-3f67-4485-a1ad-447c0b89b3f8",
        "outputId": "f02c7aed-404f-4d90-fb67-df33a965f9fd"
      },
      "outputs": [
        {
          "name": "stdout",
          "output_type": "stream",
          "text": [
            "Estadísticas descriptivas:\n",
            "              Label\n",
            "count  57063.000000\n",
            "mean       0.581077\n",
            "std        0.493387\n",
            "min        0.000000\n",
            "25%        0.000000\n",
            "50%        1.000000\n",
            "75%        1.000000\n",
            "max        1.000000\n",
            "Variables categóricas:\n",
            "['ID', 'Titulo', 'Descripcion', 'Fecha']\n",
            "Valores faltantes por columna:\n",
            "Titulo    16\n",
            "dtype: int64\n"
          ]
        },
        {
          "data": {
            "image/png": "[encoded data removed]",
            "text/plain": [
              "<Figure size 800x400 with 1 Axes>"
            ]
          },
          "metadata": {},
          "output_type": "display_data"
        }
      ],
      "source": [
        "# Estadísticas descriptivas para variables numéricas\n",
        "print('Estadísticas descriptivas:')\n",
        "print(df.describe())\n",
        "\n",
        "# Mostrar las variables de tipo objeto (categóricas)\n",
        "print('Variables categóricas:')\n",
        "print(df.select_dtypes(include=['object']).columns.tolist())\n",
        "\n",
        "# Valores faltantes en columnas\n",
        "missing = df.isnull().sum()\n",
        "print('Valores faltantes por columna:')\n",
        "print(missing[missing > 0])\n",
        "\n",
        "# Ejemplo: Análisis de valores atípicos usando un boxplot de la longitud del contenido\n",
        "if 'Descripcion' in df.columns:\n",
        "    df['content_length'] = df['Descripcion'].apply(lambda x: len(x.split()))\n",
        "    plt.figure(figsize=(8,4))\n",
        "    sns.boxplot(x=df['content_length'])\n",
        "    plt.title('Boxplot: Longitud del Contenido')\n",
        "    plt.xlabel('Número de Palabras')\n",
        "    plt.show()"
      ]
    },
    {
      "cell_type": "markdown",
      "metadata": {
        "id": "2f09eefd-4ad7-4803-b1dd-d2e312f7e215"
      },
      "source": [
        "## 4. Transformación de Datos\n",
        "\n",
        "En esta sección se aplican las siguientes transformaciones:\n",
        "\n",
        "- **Eliminación de duplicados:** Se eliminan registros repetidos.\n",
        "- **Limpieza y normalización de textos:** Se procesan las columnas 'Titulo' y 'Descripcion' aplicando las funciones definidas, lo que incluye limpieza, tokenización, eliminación de stopwords y stemming.\n",
        "- **Normalización adicional (si fuese necesario):** Se pueden aplicar transformaciones numéricas (por ejemplo, escalado) a variables numéricas.\n",
        "\n",
        "Cada transformación se justifica para mejorar la calidad del modelo y evitar ruido en el análisis."
      ]
    },
    {
      "cell_type": "code",
      "execution_count": 8,
      "metadata": {
        "colab": {
          "base_uri": "https://localhost:8080/"
        },
        "id": "f1988b1b-df6f-4248-b5cf-b360d7e3d2a4",
        "outputId": "30a5af6c-5050-4a5f-cd05-d1ae237f1d49"
      },
      "outputs": [
        {
          "name": "stdout",
          "output_type": "stream",
          "text": [
            "Dimensiones tras eliminar duplicados: (56618, 6)\n"
          ]
        }
      ],
      "source": [
        "# Eliminar duplicados\n",
        "df = df.drop_duplicates()\n",
        "print('Dimensiones tras eliminar duplicados:', df.shape)\n",
        "\n",
        "# Rellenar valores nulos en las columnas de texto\n",
        "df['Titulo'] = df['Titulo'].fillna('')\n",
        "df['Descripcion'] = df['Descripcion'].fillna('')"
      ]
    },
    {
      "cell_type": "markdown",
      "metadata": {
        "id": "12e9a58b-265b-4e0f-9f8f-5bbac4e1f9d2"
      },
      "source": [
        "### 4.1 Limpieza y Normalización de Textos\n",
        "\n",
        "Se procesan las columnas de texto utilizando las funciones definidas. Se generan dos nuevas columnas: `title_clean` y `content_clean`."
      ]
    },
    {
      "cell_type": "code",
      "execution_count": 9,
      "metadata": {
        "colab": {
          "base_uri": "https://localhost:8080/"
        },
        "id": "9b88a3c5-7d32-4ab1-8ff1-0531c4a9e609",
        "outputId": "c837cc68-52e8-4714-ac3e-7d28dc60da7e"
      },
      "outputs": [
        {
          "name": "stdout",
          "output_type": "stream",
          "text": [
            "Ejemplo de Titulo original y procesado:\n",
            "                                              Titulo  \\\n",
            "0  'The Guardian' va con Sánchez: 'Europa necesit...   \n",
            "1  REVELAN QUE EL GOBIERNO NEGOCIO LA LIBERACIÓN ...   \n",
            "2  El 'Ahora o nunca' de Joan Fuster sobre el est...   \n",
            "3  Iglesias alienta a Yolanda Díaz, ERC y EH Bild...   \n",
            "4  Puigdemont: 'No sería ninguna tragedia una rep...   \n",
            "\n",
            "                                         title_clean  \n",
            "0  the guardi va sanchez europ necesit apuest de ...  \n",
            "1  revel gobiern negoci liber mirel cambi otorg p...  \n",
            "2   ahor nunc joan fust estatut valencian cumpl años  \n",
            "3  iglesi alient yoland diaz erc eh bildu negoci ...  \n",
            "4      puigdemont ningun tragedi repeticion eleccion  \n",
            "Ejemplo de Descripcion original y procesado:\n",
            "                                         Descripcion  \\\n",
            "0  El diario británico publicó este pasado jueves...   \n",
            "1  REVELAN QUE EL GOBIERNO NEGOCIO LA LIBERACIÓN ...   \n",
            "2  El valencianismo convoca en Castelló su fiesta...   \n",
            "3  En política, igual que hay que negociar con lo...   \n",
            "4  En una entrevista en El Punt Avui, el líder de...   \n",
            "\n",
            "                                       content_clean  \n",
            "0  diari britan public pas juev editorial proxim ...  \n",
            "1  revel gobiern negoci liber mirel cambi otorg p...  \n",
            "2  valencian convoc castell fiest grand conmemor ...  \n",
            "3  polit igual negoci empresari negoci grup parla...  \n",
            "4  entrev punt avui lid jxcat desdramatiz posibl ...  \n"
          ]
        }
      ],
      "source": [
        "# Procesar la columna 'Titulo'\n",
        "df['title_clean'] = df['Titulo'].apply(process_text)\n",
        "\n",
        "# Procesar la columna 'Descripcion'\n",
        "df['content_clean'] = df['Descripcion'].apply(process_text)\n",
        "\n",
        "print('Ejemplo de Titulo original y procesado:')\n",
        "print(df[['Titulo', 'title_clean']].head())\n",
        "\n",
        "print('Ejemplo de Descripcion original y procesado:')\n",
        "print(df[['Descripcion', 'content_clean']].head())"
      ]
    },
    {
      "cell_type": "markdown",
      "metadata": {
        "id": "ad220fa4-879e-4dfb-8de6-8e3bd0dfe2e1"
      },
      "source": [
        "### 4.2 Evidencias y Gráficos de Transformación\n",
        "\n",
        "Se generan gráficos para evidenciar la transformación realizada, por ejemplo, la distribución de la longitud del contenido (basada en la columna 'Descripcion')."
      ]
    },
    {
      "cell_type": "code",
      "execution_count": 10,
      "metadata": {
        "colab": {
          "base_uri": "https://localhost:8080/",
          "height": 573
        },
        "id": "ee1921b5-8c1e-4f46-ae74-f5b47e6510a5",
        "outputId": "3fcb03b2-ad4a-41f6-a2aa-3d2ba7e23ec8"
      },
      "outputs": [
        {
          "data": {
            "image/png": "[encoded data removed]",
            "text/plain": [
              "<Figure size 1000x600 with 1 Axes>"
            ]
          },
          "metadata": {},
          "output_type": "display_data"
        }
      ],
      "source": [
        "# Calcular la longitud del contenido (número de palabras) en la columna original\n",
        "df['content_length'] = df['Descripcion'].apply(lambda x: len(x.split()))\n",
        "\n",
        "plt.figure(figsize=(10,6))\n",
        "sns.histplot(df['content_length'], bins=30, kde=True)\n",
        "plt.title('Distribución de la Longitud del Contenido (Original)')\n",
        "plt.xlabel('Número de Palabras')\n",
        "plt.ylabel('Frecuencia')\n",
        "plt.show()"
      ]
    },
    {
      "cell_type": "markdown",
      "metadata": {
        "id": "1f86382e-8d43-4d5e-8a2a-ef9f5d5e0958"
      },
      "source": [
        "## 5. Entrega de Datos Preparados\n",
        "\n",
        "Una vez realizadas las transformaciones y el análisis, se guarda el conjunto de datos preprocesado para su uso en modelos posteriores. Además, se documenta brevemente el proceso de transformación y se justifica la calidad de los datos resultantes."
      ]
    },
    {
      "cell_type": "code",
      "execution_count": 11,
      "metadata": {
        "colab": {
          "base_uri": "https://localhost:8080/"
        },
        "id": "b8f582ac-c4a2-43f0-9d84-7d3a9a4d3b22",
        "outputId": "7928a224-62ef-4d61-e186-fbbc552c2bea"
      },
      "outputs": [
        {
          "name": "stdout",
          "output_type": "stream",
          "text": [
            "El dataset preprocesado se ha guardado como 'fake_news_spanish_preparado.csv'.\n"
          ]
        }
      ],
      "source": [
        "# Guardar el dataset preprocesado en un nuevo archivo CSV\n",
        "df.to_csv('fake_news_spanish_preparado.csv', index=False, encoding='utf-8')\n",
        "print(\"El dataset preprocesado se ha guardado como 'fake_news_spanish_preparado.csv'.\")"
      ]
    },
    {
      "cell_type": "markdown",
      "metadata": {
        "id": "3de05e3c-f03c-4e2f-83a3-9a6b4a78af88"
      },
      "source": [
        "## 6. División en Conjuntos de Entrenamiento y Prueba\n",
        "\n",
        "Se divide el conjunto de datos preprocesado en un 80% para entrenamiento y un 20% para prueba. Esto se realizará usando `train_test_split` de scikit-learn."
      ]
    },
    {
      "cell_type": "code",
      "execution_count": 12,
      "metadata": {
        "colab": {
          "base_uri": "https://localhost:8080/",
          "height": 425
        },
        "id": "d4a3bde5-5b47-41e7-a8af-4f2c4ea7d52e",
        "outputId": "030e0e1d-723a-420e-d142-801609670ce3"
      },
      "outputs": [
        {
          "name": "stdout",
          "output_type": "stream",
          "text": [
            "Dimensiones del conjunto de entrenamiento: (45294, 8)\n",
            "Dimensiones del conjunto de prueba: (11324, 8)\n"
          ]
        },
        {
          "data": {
            "text/html": [
              "<div>\n",
              "<style scoped>\n",
              "    .dataframe tbody tr th:only-of-type {\n",
              "        vertical-align: middle;\n",
              "    }\n",
              "\n",
              "    .dataframe tbody tr th {\n",
              "        vertical-align: top;\n",
              "    }\n",
              "\n",
              "    .dataframe thead th {\n",
              "        text-align: right;\n",
              "    }\n",
              "</style>\n",
              "<table border=\"1\" class=\"dataframe\">\n",
              "  <thead>\n",
              "    <tr style=\"text-align: right;\">\n",
              "      <th></th>\n",
              "      <th>ID</th>\n",
              "      <th>Label</th>\n",
              "      <th>Titulo</th>\n",
              "      <th>Descripcion</th>\n",
              "      <th>Fecha</th>\n",
              "      <th>content_length</th>\n",
              "      <th>title_clean</th>\n",
              "      <th>content_clean</th>\n",
              "    </tr>\n",
              "  </thead>\n",
              "  <tbody>\n",
              "    <tr>\n",
              "      <th>51430</th>\n",
              "      <td>ID</td>\n",
              "      <td>1</td>\n",
              "      <td>Escrivá reconoce que creó un 'ruido innecesari...</td>\n",
              "      <td>El ministro de Seguridad Social, que ha presen...</td>\n",
              "      <td>07/07/2021</td>\n",
              "      <td>43</td>\n",
              "      <td>escriv reconoc cre ruid innecesari palabr reco...</td>\n",
              "      <td>ministr segur social present congres prim acue...</td>\n",
              "    </tr>\n",
              "    <tr>\n",
              "      <th>53656</th>\n",
              "      <td>ID</td>\n",
              "      <td>1</td>\n",
              "      <td>El estado de alarma deja más de 1.400 detenido...</td>\n",
              "      <td>Por comunidades autónomas, y con datos de medi...</td>\n",
              "      <td>20/06/2020</td>\n",
              "      <td>41</td>\n",
              "      <td>alarm dej deten sancion ley mordaz bas denunci</td>\n",
              "      <td>comun autonom dat medi juni andaluc acap mayor...</td>\n",
              "    </tr>\n",
              "    <tr>\n",
              "      <th>3891</th>\n",
              "      <td>ID</td>\n",
              "      <td>0</td>\n",
              "      <td>Absuelto el interventor general que emitió el ...</td>\n",
              "      <td>La Audiencia razona que Manuel Jéssica Albiach...</td>\n",
              "      <td>19/11/2019</td>\n",
              "      <td>43</td>\n",
              "      <td>absuelt interventor general emit inform alert ...</td>\n",
              "      <td>audienci razon manuel jessic albiach intervent...</td>\n",
              "    </tr>\n",
              "    <tr>\n",
              "      <th>15855</th>\n",
              "      <td>ID</td>\n",
              "      <td>1</td>\n",
              "      <td>El Congreso aprueba la ley para equiparar los ...</td>\n",
              "      <td>ERC, Bildu, PNV y PDeCat no han votado a favor...</td>\n",
              "      <td>13/11/2018</td>\n",
              "      <td>48</td>\n",
              "      <td>congres aprueb ley equipar sueld diferent fuer...</td>\n",
              "      <td>erc bildu pnv pdecat vot favor ilp present jus...</td>\n",
              "    </tr>\n",
              "    <tr>\n",
              "      <th>4772</th>\n",
              "      <td>ID</td>\n",
              "      <td>1</td>\n",
              "      <td>El autor de la carta con la navaja a la minist...</td>\n",
              "      <td>El remitente, de apellido Escudero Arias-Dávil...</td>\n",
              "      <td>27/04/2021</td>\n",
              "      <td>59</td>\n",
              "      <td>autor cart navaj ministr marot emparent diput ...</td>\n",
              "      <td>remitent apell escuder ariasdavil años residen...</td>\n",
              "    </tr>\n",
              "  </tbody>\n",
              "</table>\n",
              "</div>"
            ],
            "text/plain": [
              "       ID  Label                                             Titulo  \\\n",
              "51430  ID      1  Escrivá reconoce que creó un 'ruido innecesari...   \n",
              "53656  ID      1  El estado de alarma deja más de 1.400 detenido...   \n",
              "3891   ID      0  Absuelto el interventor general que emitió el ...   \n",
              "15855  ID      1  El Congreso aprueba la ley para equiparar los ...   \n",
              "4772   ID      1  El autor de la carta con la navaja a la minist...   \n",
              "\n",
              "                                             Descripcion       Fecha  \\\n",
              "51430  El ministro de Seguridad Social, que ha presen...  07/07/2021   \n",
              "53656  Por comunidades autónomas, y con datos de medi...  20/06/2020   \n",
              "3891   La Audiencia razona que Manuel Jéssica Albiach...  19/11/2019   \n",
              "15855  ERC, Bildu, PNV y PDeCat no han votado a favor...  13/11/2018   \n",
              "4772   El remitente, de apellido Escudero Arias-Dávil...  27/04/2021   \n",
              "\n",
              "       content_length                                        title_clean  \\\n",
              "51430              43  escriv reconoc cre ruid innecesari palabr reco...   \n",
              "53656              41     alarm dej deten sancion ley mordaz bas denunci   \n",
              "3891               43  absuelt interventor general emit inform alert ...   \n",
              "15855              48  congres aprueb ley equipar sueld diferent fuer...   \n",
              "4772               59  autor cart navaj ministr marot emparent diput ...   \n",
              "\n",
              "                                           content_clean  \n",
              "51430  ministr segur social present congres prim acue...  \n",
              "53656  comun autonom dat medi juni andaluc acap mayor...  \n",
              "3891   audienci razon manuel jessic albiach intervent...  \n",
              "15855  erc bildu pnv pdecat vot favor ilp present jus...  \n",
              "4772   remitent apell escuder ariasdavil años residen...  "
            ]
          },
          "execution_count": 12,
          "metadata": {},
          "output_type": "execute_result"
        }
      ],
      "source": [
        "from sklearn.model_selection import train_test_split\n",
        "\n",
        "# Dividir el dataset en 80% entrenamiento y 20% prueba\n",
        "train, test = train_test_split(df, test_size=0.2, random_state=33)\n",
        "\n",
        "print('Dimensiones del conjunto de entrenamiento:', train.shape)\n",
        "print('Dimensiones del conjunto de prueba:', test.shape)\n",
        "\n",
        "# Mostrar una muestra del conjunto de entrenamiento\n",
        "train.head()"
      ]
    }
  ],
  "metadata": {
    "colab": {
      "provenance": [],
      "toc_visible": true
    },
    "kernelspec": {
      "display_name": "base",
      "language": "python",
      "name": "python3"
    },
    "language_info": {
      "codemirror_mode": {
        "name": "ipython",
        "version": 3
      },
      "file_extension": ".py",
      "mimetype": "text/x-python",
      "name": "python",
      "nbconvert_exporter": "python",
      "pygments_lexer": "ipython3",
      "version": "3.12.2"
    }
  },
  "nbformat": 4,
  "nbformat_minor": 0
}
