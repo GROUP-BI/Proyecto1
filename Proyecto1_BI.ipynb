{
  "cells": [
    {
      "cell_type": "markdown",
      "metadata": {
        "id": "ece9b33d-02bd-44a3-8601-9e7d6cf2d6f2"
      },
      "source": [
        "# Proyecto: Preparación y Transformación de Datos para Detección de Noticias Falsas\n",
        "\n"
      ]
    },
    {
      "cell_type": "markdown",
      "metadata": {
        "id": "b4b43e44-0f5f-4677-9b72-4f0a45f08493"
      },
      "source": [
        "## 1. Importación de Librerías y Configuración\n",
        "\n",
        "Se importan las librerías esenciales para la manipulación de datos, visualización y procesamiento de textos. Además, se configuran las stopwords de NLTK y el stemmer para español."
      ]
    },
    {
      "cell_type": "code",
      "execution_count": 18,
      "metadata": {
        "colab": {
          "base_uri": "https://localhost:8080/"
        },
        "id": "6d0f46d2-5f0e-4da0-9e66-c1c97e8c75d2",
        "outputId": "7a46e55d-a66a-4ea7-b2a6-3dadce166d69"
      },
      "outputs": [
        {
          "name": "stderr",
          "output_type": "stream",
          "text": [
            "[nltk_data] Downloading package stopwords to\n",
            "[nltk_data]     C:\\Users\\frank\\AppData\\Roaming\\nltk_data...\n",
            "[nltk_data]   Package stopwords is already up-to-date!\n"
          ]
        }
      ],
      "source": [
        "# ------------------ Librerías estándar ------------------\n",
        "import re                       \n",
        "import numpy as np              \n",
        "import pandas as pd             \n",
        "\n",
        "# ------------------ Visualización ------------------\n",
        "import matplotlib.pyplot as plt \n",
        "import seaborn as sns           \n",
        "sns.set(style='whitegrid')      # Configuración de estilo para gráficos\n",
        "\n",
        "# ------------------ Procesamiento de lenguaje natural (NLP) ------------------\n",
        "import nltk                     \n",
        "nltk.download('stopwords')      \n",
        "from nltk.corpus import stopwords\n",
        "from nltk.stem.snowball import SnowballStemmer\n",
        "\n",
        "# Configuración de stopwords y stemmer\n",
        "stop_words = set(stopwords.words('spanish'))\n",
        "stemmer = SnowballStemmer('spanish')\n",
        "\n",
        "# ------------------ Machine Learning ------------------\n",
        "from sklearn.model_selection import train_test_split\n",
        "from sklearn.feature_extraction.text import TfidfVectorizer\n",
        "from sklearn.metrics import (\n",
        "    accuracy_score, precision_score,classification_report, recall_score, \n",
        "    f1_score, roc_auc_score, confusion_matrix,roc_curve, auc\n",
        ")\n",
        "from sklearn.pipeline import Pipeline\n",
        "\n",
        "# Modelos de Machine Learning\n",
        "from sklearn.neighbors import KNeighborsClassifier\n",
        "from sklearn.tree import DecisionTreeClassifier\n",
        "from sklearn.ensemble import RandomForestClassifier\n",
        "from sklearn.svm import SVC\n",
        "from sklearn.naive_bayes import MultinomialNB\n",
        "from sklearn.linear_model import LogisticRegression\n"
      ]
    },
    {
      "cell_type": "markdown",
      "metadata": {
        "id": "e2ad7087-47cb-4c51-92b4-6b65f58a6e89"
      },
      "source": [
        "## 2. Funciones para Limpieza y Procesamiento de Textos\n",
        "\n",
        "Se definen dos funciones fundamentales:\n",
        "\n",
        "- **clean_text(text)**: Convierte el texto a minúsculas, elimina URLs, elimina caracteres no alfabéticos (dejando acentos y ñ) y quita espacios extra.\n",
        "- **process_text(text)**: Utiliza `clean_text` para limpiar el texto, lo tokeniza (por separación de espacios), elimina stopwords y aplica stemming para obtener la raíz de cada palabra.\n",
        "\n",
        "Estas funciones permiten transformar el texto de forma que se eliminen prefijos y sufijos innecesarios, dejando las palabras en su forma base."
      ]
    },
    {
      "cell_type": "code",
      "execution_count": 19,
      "metadata": {
        "id": "1b315cd8-054f-4ac7-8a73-0a18fefb83da"
      },
      "outputs": [],
      "source": [
        "def clean_text(text):\n",
        "    \"\"\"\n",
        "    Limpia el texto realizando:\n",
        "      - Conversión a minúsculas\n",
        "      - Eliminación de URLs\n",
        "      - Eliminación de caracteres que no sean letras (se conservan acentos y ñ)\n",
        "      - Eliminación de espacios extra\n",
        "    \"\"\"\n",
        "    if pd.isnull(text):\n",
        "        return \"\"\n",
        "    text = text.lower()\n",
        "    text = re.sub(r'http\\S+', '', text)  # Elimina URLs\n",
        "    text = re.sub(r'[^a-záéíóúñ\\s]', '', text)  # Conserva solo letras y espacios\n",
        "    text = re.sub(r'\\s+', ' ', text).strip()  # Elimina espacios extra\n",
        "    return text\n",
        "\n",
        "def process_text(text):\n",
        "    \"\"\"\n",
        "    Procesa el texto aplicando:\n",
        "      - Limpieza básica (clean_text)\n",
        "      - Tokenización (separa palabras)\n",
        "      - Eliminación de stopwords\n",
        "      - Aplicación de stemming para obtener la raíz de cada palabra\n",
        "    \"\"\"\n",
        "    if pd.isnull(text):\n",
        "        return \"\"\n",
        "    text = clean_text(text)\n",
        "    words = text.split()\n",
        "    # Aplicar stemming y eliminar stopwords\n",
        "    words = [stemmer.stem(word) for word in words if word not in stop_words]\n",
        "    return \" \".join(words)"
      ]
    },
    {
      "cell_type": "markdown",
      "metadata": {
        "id": "9d2e8c3f-3f2e-4a1a-b72b-2c0f3ac4a3e5"
      },
      "source": [
        "## 3. Gestión y Análisis de Datos\n",
        "\n",
        "### 3.1 Descarga y Exploración del Conjunto de Datos\n",
        "\n",
        "Se carga el dataset (se asume que está en `fake_news_spanish.csv`) y se exploran sus dimensiones, primeras filas, información general y la cantidad de valores nulos. También se identifican las fuentes de datos (si la columna existe)."
      ]
    },
    {
      "cell_type": "code",
      "execution_count": 20,
      "metadata": {
        "colab": {
          "base_uri": "https://localhost:8080/"
        },
        "id": "6f5e33b9-4e2c-45df-9b74-5d03b8735c9c",
        "outputId": "b7401786-3ac1-4efa-8353-f4d43bf95855"
      },
      "outputs": [
        {
          "name": "stdout",
          "output_type": "stream",
          "text": [
            "Dimensiones del dataset: (57063, 5)\n",
            "Primeras 5 filas:\n",
            "   ID  Label                                             Titulo  \\\n",
            "0  ID      1  'The Guardian' va con Sánchez: 'Europa necesit...   \n",
            "1  ID      0  REVELAN QUE EL GOBIERNO NEGOCIO LA LIBERACIÓN ...   \n",
            "2  ID      1  El 'Ahora o nunca' de Joan Fuster sobre el est...   \n",
            "3  ID      1  Iglesias alienta a Yolanda Díaz, ERC y EH Bild...   \n",
            "4  ID      0  Puigdemont: 'No sería ninguna tragedia una rep...   \n",
            "\n",
            "                                         Descripcion       Fecha  \n",
            "0  El diario británico publicó este pasado jueves...  02/06/2023  \n",
            "1  REVELAN QUE EL GOBIERNO NEGOCIO LA LIBERACIÓN ...  01/10/2023  \n",
            "2  El valencianismo convoca en Castelló su fiesta...  25/04/2022  \n",
            "3  En política, igual que hay que negociar con lo...  03/01/2022  \n",
            "4  En una entrevista en El Punt Avui, el líder de...  09/03/2018  \n",
            "Información del dataset:\n",
            "<class 'pandas.core.frame.DataFrame'>\n",
            "RangeIndex: 57063 entries, 0 to 57062\n",
            "Data columns (total 5 columns):\n",
            " #   Column       Non-Null Count  Dtype \n",
            "---  ------       --------------  ----- \n",
            " 0   ID           57063 non-null  object\n",
            " 1   Label        57063 non-null  int64 \n",
            " 2   Titulo       57047 non-null  object\n",
            " 3   Descripcion  57063 non-null  object\n",
            " 4   Fecha        57063 non-null  object\n",
            "dtypes: int64(1), object(4)\n",
            "memory usage: 2.2+ MB\n",
            "None\n",
            "Valores nulos por columna:\n",
            "ID              0\n",
            "Label           0\n",
            "Titulo         16\n",
            "Descripcion     0\n",
            "Fecha           0\n",
            "dtype: int64\n",
            "No se encontró la columna de fuentes de datos.\n"
          ]
        }
      ],
      "source": [
        "# Ajusta la ruta y el separador según el formato del CSV\n",
        "ruta = 'fake_news_spanish.csv'\n",
        "df = pd.read_csv(ruta, sep=';', encoding='utf-8')\n",
        "\n",
        "print('Dimensiones del dataset:', df.shape)\n",
        "print('Primeras 5 filas:')\n",
        "print(df.head())\n",
        "\n",
        "print('Información del dataset:')\n",
        "print(df.info())\n",
        "\n",
        "print('Valores nulos por columna:')\n",
        "print(df.isnull().sum())\n",
        "\n",
        "# Si existe la columna 'source', mostrar las fuentes disponibles\n",
        "if 'source' in df.columns:\n",
        "    print('Fuentes de datos:', df['source'].unique())\n",
        "else:\n",
        "    print('No se encontró la columna de fuentes de datos.')"
      ]
    },
    {
      "cell_type": "markdown",
      "metadata": {
        "id": "86b7eb89-75af-4b90-9781-140f969a6a66"
      },
      "source": [
        "### 3.2 Análisis Exploratorio\n",
        "\n",
        "Se realizan estadísticas descriptivas y se generan gráficos y tablas para identificar valores atípicos y datos faltantes. Además, se distinguen las variables numéricas (por ejemplo, la longitud del contenido) de las categóricas (por ejemplo, Titulo, Descripcion, label, source, etc.)."
      ]
    },
    {
      "cell_type": "code",
      "execution_count": 21,
      "metadata": {
        "colab": {
          "base_uri": "https://localhost:8080/",
          "height": 674
        },
        "id": "3e83e21d-3f67-4485-a1ad-447c0b89b3f8",
        "outputId": "f02c7aed-404f-4d90-fb67-df33a965f9fd"
      },
      "outputs": [
        {
          "name": "stdout",
          "output_type": "stream",
          "text": [
            "Estadísticas descriptivas:\n",
            "              Label\n",
            "count  57063.000000\n",
            "mean       0.581077\n",
            "std        0.493387\n",
            "min        0.000000\n",
            "25%        0.000000\n",
            "50%        1.000000\n",
            "75%        1.000000\n",
            "max        1.000000\n",
            "Variables categóricas:\n",
            "['ID', 'Titulo', 'Descripcion', 'Fecha']\n",
            "Valores faltantes por columna:\n",
            "Titulo    16\n",
            "dtype: int64\n"
          ]
        },
        {
          "data": {
            "image/png": "[encoded data removed]",
            "text/plain": [
              "<Figure size 800x400 with 1 Axes>"
            ]
          },
          "metadata": {},
          "output_type": "display_data"
        }
      ],
      "source": [
        "# Estadísticas descriptivas para variables numéricas\n",
        "print('Estadísticas descriptivas:')\n",
        "print(df.describe())\n",
        "\n",
        "# Mostrar las variables de tipo objeto (categóricas)\n",
        "print('Variables categóricas:')\n",
        "print(df.select_dtypes(include=['object']).columns.tolist())\n",
        "\n",
        "# Valores faltantes en columnas\n",
        "missing = df.isnull().sum()\n",
        "print('Valores faltantes por columna:')\n",
        "print(missing[missing > 0])\n",
        "\n",
        "# Ejemplo: Análisis de valores atípicos usando un boxplot de la longitud del contenido\n",
        "if 'Descripcion' in df.columns:\n",
        "    df['content_length'] = df['Descripcion'].apply(lambda x: len(x.split()))\n",
        "    plt.figure(figsize=(8,4))\n",
        "    sns.boxplot(x=df['content_length'])\n",
        "    plt.title('Boxplot: Longitud del Contenido')\n",
        "    plt.xlabel('Número de Palabras')\n",
        "    plt.show()"
      ]
    },
    {
      "cell_type": "markdown",
      "metadata": {
        "id": "2f09eefd-4ad7-4803-b1dd-d2e312f7e215"
      },
      "source": [
        "## 4. Transformación de Datos\n",
        "\n",
        "En esta sección se aplican las siguientes transformaciones:\n",
        "\n",
        "- **Eliminación de duplicados:** Se eliminan registros repetidos.\n",
        "- **Limpieza y normalización de textos:** Se procesan las columnas 'Titulo' y 'Descripcion' aplicando las funciones definidas, lo que incluye limpieza, tokenización, eliminación de stopwords y stemming.\n",
        "- **Normalización adicional (si fuese necesario):** Se pueden aplicar transformaciones numéricas (por ejemplo, escalado) a variables numéricas.\n",
        "\n",
        "Cada transformación se justifica para mejorar la calidad del modelo y evitar ruido en el análisis."
      ]
    },
    {
      "cell_type": "code",
      "execution_count": 22,
      "metadata": {
        "colab": {
          "base_uri": "https://localhost:8080/"
        },
        "id": "f1988b1b-df6f-4248-b5cf-b360d7e3d2a4",
        "outputId": "30a5af6c-5050-4a5f-cd05-d1ae237f1d49"
      },
      "outputs": [
        {
          "name": "stdout",
          "output_type": "stream",
          "text": [
            "Dimensiones tras eliminar duplicados: (56618, 6)\n"
          ]
        }
      ],
      "source": [
        "# Eliminar duplicados\n",
        "df = df.drop_duplicates()\n",
        "print('Dimensiones tras eliminar duplicados:', df.shape)\n",
        "\n",
        "# Rellenar valores nulos en las columnas de texto\n",
        "df['Titulo'] = df['Titulo'].fillna('')\n",
        "df['Descripcion'] = df['Descripcion'].fillna('')"
      ]
    },
    {
      "cell_type": "markdown",
      "metadata": {
        "id": "12e9a58b-265b-4e0f-9f8f-5bbac4e1f9d2"
      },
      "source": [
        "### 4.1 Limpieza y Normalización de Textos\n",
        "\n",
        "Se procesan las columnas de texto utilizando las funciones definidas. Se generan dos nuevas columnas: `title_clean` y `content_clean`."
      ]
    },
    {
      "cell_type": "code",
      "execution_count": null,
      "metadata": {
        "colab": {
          "base_uri": "https://localhost:8080/"
        },
        "id": "9b88a3c5-7d32-4ab1-8ff1-0531c4a9e609",
        "outputId": "c837cc68-52e8-4714-ac3e-7d28dc60da7e"
      },
      "outputs": [],
      "source": [
        "# Procesar la columna 'Titulo'\n",
        "df['title_clean'] = df['Titulo'].apply(process_text)\n",
        "\n",
        "# Procesar la columna 'Descripcion'\n",
        "df['content_clean'] = df['Descripcion'].apply(process_text)\n",
        "\n",
        "print('Ejemplo de Titulo original y procesado:')\n",
        "print(df[['Titulo', 'title_clean']].head())\n",
        "\n",
        "print('Ejemplo de Descripcion original y procesado:')\n",
        "print(df[['Descripcion', 'content_clean']].head())"
      ]
    },
    {
      "cell_type": "markdown",
      "metadata": {
        "id": "ad220fa4-879e-4dfb-8de6-8e3bd0dfe2e1"
      },
      "source": [
        "### 4.2 Evidencias y Gráficos de Transformación\n",
        "\n",
        "Se generan gráficos para evidenciar la transformación realizada, por ejemplo, la distribución de la longitud del contenido (basada en la columna 'Descripcion')."
      ]
    },
    {
      "cell_type": "code",
      "execution_count": null,
      "metadata": {
        "colab": {
          "base_uri": "https://localhost:8080/",
          "height": 573
        },
        "id": "ee1921b5-8c1e-4f46-ae74-f5b47e6510a5",
        "outputId": "3fcb03b2-ad4a-41f6-a2aa-3d2ba7e23ec8"
      },
      "outputs": [
        {
          "data": {
            "image/png": "[encoded data removed]",
            "text/plain": [
              "<Figure size 1000x600 with 1 Axes>"
            ]
          },
          "metadata": {},
          "output_type": "display_data"
        }
      ],
      "source": [
        "# Calcular la longitud del contenido (número de palabras) en la columna original\n",
        "df['content_length'] = df['Descripcion'].apply(lambda x: len(x.split()))\n",
        "\n",
        "plt.figure(figsize=(10,6))\n",
        "sns.histplot(df['content_length'], bins=30, kde=True)\n",
        "plt.title('Distribución de la Longitud del Contenido (Original)')\n",
        "plt.xlabel('Número de Palabras')\n",
        "plt.ylabel('Frecuencia')\n",
        "plt.show()"
      ]
    },
    {
      "cell_type": "markdown",
      "metadata": {
        "id": "1f86382e-8d43-4d5e-8a2a-ef9f5d5e0958"
      },
      "source": [
        "## 5. Entrega de Datos Preparados\n",
        "\n",
        "Una vez realizadas las transformaciones y el análisis, se guarda el conjunto de datos preprocesado para su uso en modelos posteriores. Además, se documenta brevemente el proceso de transformación y se justifica la calidad de los datos resultantes."
      ]
    },
    {
      "cell_type": "code",
      "execution_count": null,
      "metadata": {
        "colab": {
          "base_uri": "https://localhost:8080/"
        },
        "id": "b8f582ac-c4a2-43f0-9d84-7d3a9a4d3b22",
        "outputId": "7928a224-62ef-4d61-e186-fbbc552c2bea"
      },
      "outputs": [
        {
          "name": "stdout",
          "output_type": "stream",
          "text": [
            "El dataset preprocesado se ha guardado como 'fake_news_spanish_preparado.csv'.\n"
          ]
        }
      ],
      "source": [
        "# Guardar el dataset preprocesado en un nuevo archivo CSV\n",
        "df.to_csv('fake_news_spanish_preparado.csv', index=False, encoding='utf-8')\n",
        "print(\"El dataset preprocesado se ha guardado como 'fake_news_spanish_preparado.csv'.\")"
      ]
    },
    {
      "cell_type": "markdown",
      "metadata": {
        "id": "3de05e3c-f03c-4e2f-83a3-9a6b4a78af88"
      },
      "source": [
        "## 6. División en Conjuntos de Entrenamiento y Prueba\n",
        "\n",
        "Se divide el conjunto de datos preprocesado en un 80% para entrenamiento y un 20% para prueba. Esto se realizará usando `train_test_split` de scikit-learn."
      ]
    },
    {
      "cell_type": "code",
      "execution_count": null,
      "metadata": {
        "colab": {
          "base_uri": "https://localhost:8080/",
          "height": 425
        },
        "id": "d4a3bde5-5b47-41e7-a8af-4f2c4ea7d52e",
        "outputId": "030e0e1d-723a-420e-d142-801609670ce3"
      },
      "outputs": [
        {
          "name": "stdout",
          "output_type": "stream",
          "text": [
            "Dimensiones del conjunto de entrenamiento: (45294, 8)\n",
            "Dimensiones del conjunto de prueba: (11324, 8)\n"
          ]
        },
        {
          "data": {
            "application/vnd.microsoft.datawrangler.viewer.v0+json": {
              "columns": [
                {
                  "name": "index",
                  "rawType": "int64",
                  "type": "integer"
                },
                {
                  "name": "ID",
                  "rawType": "object",
                  "type": "string"
                },
                {
                  "name": "Label",
                  "rawType": "int64",
                  "type": "integer"
                },
                {
                  "name": "Titulo",
                  "rawType": "object",
                  "type": "string"
                },
                {
                  "name": "Descripcion",
                  "rawType": "object",
                  "type": "string"
                },
                {
                  "name": "Fecha",
                  "rawType": "object",
                  "type": "string"
                },
                {
                  "name": "content_length",
                  "rawType": "int64",
                  "type": "integer"
                },
                {
                  "name": "title_clean",
                  "rawType": "object",
                  "type": "string"
                },
                {
                  "name": "content_clean",
                  "rawType": "object",
                  "type": "string"
                }
              ],
              "conversionMethod": "pd.DataFrame",
              "ref": "c446b518-3071-48d5-9849-b3390943b8a5",
              "rows": [
                [
                  "51430",
                  "ID",
                  "1",
                  "Escrivá reconoce que creó un 'ruido innecesario' con sus palabras sobre el recorte de pensiones a los 'baby boomers'",
                  "El ministro de Seguridad Social, que ha presentado en el Congreso el primer acuerdo sellado por el Gobierno y los agentes sociales para la reforma de las pensiones, ha pedido tranquilidad ante la negociación sobre cómo se determinará el mecanismo de equidad intergeneracional.",
                  "07/07/2021",
                  "43",
                  "escriv reconoc cre ruid innecesari palabr recort pension baby boomers",
                  "ministr segur social present congres prim acuerd sell gobiern agent social reform pension ped tranquil negoci com determin mecan equid intergeneracional"
                ],
                [
                  "53656",
                  "ID",
                  "1",
                  "El estado de alarma deja más de 1.400 detenidos y 194.000 sanciones, con la ley mordaza como base de las denuncias",
                  "Por comunidades autónomas, y con datos de mediados de junio, es Andalucía la que acapara el mayor número de sanciones, con algo más de 194.000, por delante de Madrid, con unas 183.000, y la Comunidad Valenciana (en torno a las 167.000)",
                  "20/06/2020",
                  "41",
                  "alarm dej deten sancion ley mordaz bas denunci",
                  "comun autonom dat medi juni andaluc acap mayor numer sancion delant madr unas comun valencian torn"
                ],
                [
                  "3891",
                  "ID",
                  "0",
                  "Absuelto el interventor general que emitió el informe que alertaba de la ilegalidad del sistema",
                  "La Audiencia razona que Manuel Jéssica Albiach fue quien, como interventor general, ordenó que se realizara el informe adicional en el que se advertía de las irregularidades detectadas en la presupuestación y ejecución del programa 31L para las ayudas sociolaborales puestas en cuestión",
                  "19/11/2019",
                  "43",
                  "absuelt interventor general emit inform alert ilegal sistem",
                  "audienci razon manuel jessic albiach interventor general orden realiz inform adicional advert irregular detect presupuest ejecu program l ayud sociolaboral puest cuestion"
                ],
                [
                  "15855",
                  "ID",
                  "1",
                  "El Congreso aprueba la ley para equiparar los sueldos entre las diferentes Fuerzas de Seguridad del Estado",
                  "ERC, Bildu, PNV y PDeCat no han votado a favor de la ILP que presentó Jusapol respaldada con 550.000 firmas para legislar en torno a la equiparación de los sueldos entre agentes nacionales y autonómicos, y que este miércoles ha sido aprobada por la mayoría de los diputados.",
                  "13/11/2018",
                  "48",
                  "congres aprueb ley equipar sueld diferent fuerz segur",
                  "erc bildu pnv pdecat vot favor ilp present jusapol respald firm legisl torn equipar sueld agent nacional autonom miercol sid aprob mayor diput"
                ],
                [
                  "4772",
                  "ID",
                  "1",
                  "El autor de la carta con la navaja a la ministra Maroto está emparentado con el diputado de Vox Espinosa de los Monteros",
                  "El remitente, de apellido Escudero Arias-Dávila, 65 años y residente en El Escorial, pertenece a la saga familiar del marido de la líder de Vox en Madrid, Rocío Monasterio. Es hijo del fallecido conde de Guijas-Albas y hermano del empresario condenado a dos años de prisión (e indultado por Gallardón) como cerebro de una red de fraude del IVA.",
                  "27/04/2021",
                  "59",
                  "autor cart navaj ministr marot emparent diput vox espin monter",
                  "remitent apell escuder ariasdavil años resident escorial pertenec sag famili mar lid vox madr roci monasteri hij fallec cond guijasalb herman empresari conden dos años prision indult gallardon cerebr red fraud iva"
                ]
              ],
              "shape": {
                "columns": 8,
                "rows": 5
              }
            },
            "text/html": [
              "<div>\n",
              "<style scoped>\n",
              "    .dataframe tbody tr th:only-of-type {\n",
              "        vertical-align: middle;\n",
              "    }\n",
              "\n",
              "    .dataframe tbody tr th {\n",
              "        vertical-align: top;\n",
              "    }\n",
              "\n",
              "    .dataframe thead th {\n",
              "        text-align: right;\n",
              "    }\n",
              "</style>\n",
              "<table border=\"1\" class=\"dataframe\">\n",
              "  <thead>\n",
              "    <tr style=\"text-align: right;\">\n",
              "      <th></th>\n",
              "      <th>ID</th>\n",
              "      <th>Label</th>\n",
              "      <th>Titulo</th>\n",
              "      <th>Descripcion</th>\n",
              "      <th>Fecha</th>\n",
              "      <th>content_length</th>\n",
              "      <th>title_clean</th>\n",
              "      <th>content_clean</th>\n",
              "    </tr>\n",
              "  </thead>\n",
              "  <tbody>\n",
              "    <tr>\n",
              "      <th>51430</th>\n",
              "      <td>ID</td>\n",
              "      <td>1</td>\n",
              "      <td>Escrivá reconoce que creó un 'ruido innecesari...</td>\n",
              "      <td>El ministro de Seguridad Social, que ha presen...</td>\n",
              "      <td>07/07/2021</td>\n",
              "      <td>43</td>\n",
              "      <td>escriv reconoc cre ruid innecesari palabr reco...</td>\n",
              "      <td>ministr segur social present congres prim acue...</td>\n",
              "    </tr>\n",
              "    <tr>\n",
              "      <th>53656</th>\n",
              "      <td>ID</td>\n",
              "      <td>1</td>\n",
              "      <td>El estado de alarma deja más de 1.400 detenido...</td>\n",
              "      <td>Por comunidades autónomas, y con datos de medi...</td>\n",
              "      <td>20/06/2020</td>\n",
              "      <td>41</td>\n",
              "      <td>alarm dej deten sancion ley mordaz bas denunci</td>\n",
              "      <td>comun autonom dat medi juni andaluc acap mayor...</td>\n",
              "    </tr>\n",
              "    <tr>\n",
              "      <th>3891</th>\n",
              "      <td>ID</td>\n",
              "      <td>0</td>\n",
              "      <td>Absuelto el interventor general que emitió el ...</td>\n",
              "      <td>La Audiencia razona que Manuel Jéssica Albiach...</td>\n",
              "      <td>19/11/2019</td>\n",
              "      <td>43</td>\n",
              "      <td>absuelt interventor general emit inform alert ...</td>\n",
              "      <td>audienci razon manuel jessic albiach intervent...</td>\n",
              "    </tr>\n",
              "    <tr>\n",
              "      <th>15855</th>\n",
              "      <td>ID</td>\n",
              "      <td>1</td>\n",
              "      <td>El Congreso aprueba la ley para equiparar los ...</td>\n",
              "      <td>ERC, Bildu, PNV y PDeCat no han votado a favor...</td>\n",
              "      <td>13/11/2018</td>\n",
              "      <td>48</td>\n",
              "      <td>congres aprueb ley equipar sueld diferent fuer...</td>\n",
              "      <td>erc bildu pnv pdecat vot favor ilp present jus...</td>\n",
              "    </tr>\n",
              "    <tr>\n",
              "      <th>4772</th>\n",
              "      <td>ID</td>\n",
              "      <td>1</td>\n",
              "      <td>El autor de la carta con la navaja a la minist...</td>\n",
              "      <td>El remitente, de apellido Escudero Arias-Dávil...</td>\n",
              "      <td>27/04/2021</td>\n",
              "      <td>59</td>\n",
              "      <td>autor cart navaj ministr marot emparent diput ...</td>\n",
              "      <td>remitent apell escuder ariasdavil años residen...</td>\n",
              "    </tr>\n",
              "  </tbody>\n",
              "</table>\n",
              "</div>"
            ],
            "text/plain": [
              "       ID  Label                                             Titulo  \\\n",
              "51430  ID      1  Escrivá reconoce que creó un 'ruido innecesari...   \n",
              "53656  ID      1  El estado de alarma deja más de 1.400 detenido...   \n",
              "3891   ID      0  Absuelto el interventor general que emitió el ...   \n",
              "15855  ID      1  El Congreso aprueba la ley para equiparar los ...   \n",
              "4772   ID      1  El autor de la carta con la navaja a la minist...   \n",
              "\n",
              "                                             Descripcion       Fecha  \\\n",
              "51430  El ministro de Seguridad Social, que ha presen...  07/07/2021   \n",
              "53656  Por comunidades autónomas, y con datos de medi...  20/06/2020   \n",
              "3891   La Audiencia razona que Manuel Jéssica Albiach...  19/11/2019   \n",
              "15855  ERC, Bildu, PNV y PDeCat no han votado a favor...  13/11/2018   \n",
              "4772   El remitente, de apellido Escudero Arias-Dávil...  27/04/2021   \n",
              "\n",
              "       content_length                                        title_clean  \\\n",
              "51430              43  escriv reconoc cre ruid innecesari palabr reco...   \n",
              "53656              41     alarm dej deten sancion ley mordaz bas denunci   \n",
              "3891               43  absuelt interventor general emit inform alert ...   \n",
              "15855              48  congres aprueb ley equipar sueld diferent fuer...   \n",
              "4772               59  autor cart navaj ministr marot emparent diput ...   \n",
              "\n",
              "                                           content_clean  \n",
              "51430  ministr segur social present congres prim acue...  \n",
              "53656  comun autonom dat medi juni andaluc acap mayor...  \n",
              "3891   audienci razon manuel jessic albiach intervent...  \n",
              "15855  erc bildu pnv pdecat vot favor ilp present jus...  \n",
              "4772   remitent apell escuder ariasdavil años residen...  "
            ]
          },
          "execution_count": 9,
          "metadata": {},
          "output_type": "execute_result"
        }
      ],
      "source": [
        "# Dividir el dataset en 80% entrenamiento y 20% prueba\n",
        "train, test = train_test_split(df, test_size=0.2, random_state=33)\n",
        "\n",
        "print('Dimensiones del conjunto de entrenamiento:', train.shape)\n",
        "print('Dimensiones del conjunto de prueba:', test.shape)\n",
        "\n",
        "# Mostrar una muestra del conjunto de entrenamiento\n",
        "train.head()"
      ]
    },
    {
      "cell_type": "markdown",
      "metadata": {},
      "source": [
        "## Modelado y evaluacion de cada modelo\n",
        "\n",
        "## Modelo 1\n",
        "1. **Preparación de características:** Se combinan las columnas de texto procesado para formar una sola variable de entrada.\n",
        "2. **Vectorización:** Se utiliza el TfidfVectorizer para convertir el texto en características numéricas.\n",
        "3. **Modelado:** Se entrena un clasificador de Regresión Logística.\n",
        "4. **Evaluación:** Se calculan métricas de desempeño (accuracy, precisión, recall, F1-score y matriz de confusión) para justificar la selección del modelo.\n",
        "\n",
        "La Regresión Logística es un algoritmo de clasificación lineal simple y eficaz para problemas binarios, y resulta especialmente adecuado cuando se trabaja con datos textuales transformados en vectores dispersos."
      ]
    },
    {
      "cell_type": "code",
      "execution_count": null,
      "metadata": {},
      "outputs": [
        {
          "name": "stdout",
          "output_type": "stream",
          "text": [
            "Ejemplo de entrada combinada en el conjunto de entrenamiento:\n",
            "                                                  Titulo  \\\n",
            "51430  Escrivá reconoce que creó un 'ruido innecesari...   \n",
            "53656  El estado de alarma deja más de 1.400 detenido...   \n",
            "3891   Absuelto el interventor general que emitió el ...   \n",
            "15855  El Congreso aprueba la ley para equiparar los ...   \n",
            "4772   El autor de la carta con la navaja a la minist...   \n",
            "\n",
            "                                             title_clean  \\\n",
            "51430  escriv reconoc cre ruid innecesari palabr reco...   \n",
            "53656     alarm dej deten sancion ley mordaz bas denunci   \n",
            "3891   absuelt interventor general emit inform alert ...   \n",
            "15855  congres aprueb ley equipar sueld diferent fuer...   \n",
            "4772   autor cart navaj ministr marot emparent diput ...   \n",
            "\n",
            "                                           content_clean  \\\n",
            "51430  ministr segur social present congres prim acue...   \n",
            "53656  comun autonom dat medi juni andaluc acap mayor...   \n",
            "3891   audienci razon manuel jessic albiach intervent...   \n",
            "15855  erc bildu pnv pdecat vot favor ilp present jus...   \n",
            "4772   remitent apell escuder ariasdavil años residen...   \n",
            "\n",
            "                                                    text  \n",
            "51430  escriv reconoc cre ruid innecesari palabr reco...  \n",
            "53656  alarm dej deten sancion ley mordaz bas denunci...  \n",
            "3891   absuelt interventor general emit inform alert ...  \n",
            "15855  congres aprueb ley equipar sueld diferent fuer...  \n",
            "4772   autor cart navaj ministr marot emparent diput ...  \n"
          ]
        }
      ],
      "source": [
        "\n",
        "# Combinar el texto procesado (título y descripción) en una sola columna\n",
        "train['text'] = train['title_clean'] + \" \" + train['content_clean']\n",
        "test['text'] = test['title_clean'] + \" \" + test['content_clean']\n",
        "\n",
        "# Revisar algunos ejemplos\n",
        "print('Ejemplo de entrada combinada en el conjunto de entrenamiento:')\n",
        "print(train[['Titulo', 'title_clean', 'content_clean', 'text']].head())"
      ]
    },
    {
      "cell_type": "code",
      "execution_count": null,
      "metadata": {},
      "outputs": [
        {
          "name": "stdout",
          "output_type": "stream",
          "text": [
            "Forma de X_train_tfidf: (45294, 10000)\n",
            "Forma de X_test_tfidf: (11324, 10000)\n"
          ]
        }
      ],
      "source": [
        "# Inicializar el vectorizador. Se limita el número máximo de características para evitar alta dimensionalidad.\n",
        "vectorizer = TfidfVectorizer(max_features=10000)\n",
        "\n",
        "# Ajustar el vectorizador sobre el conjunto de entrenamiento y transformar ambos conjuntos\n",
        "X_train_tfidf = vectorizer.fit_transform(train['text'])\n",
        "X_test_tfidf = vectorizer.transform(test['text'])\n",
        "\n",
        "# Verificar la forma de las matrices resultantes\n",
        "print('Forma de X_train_tfidf:', X_train_tfidf.shape)\n",
        "print('Forma de X_test_tfidf:', X_test_tfidf.shape)"
      ]
    },
    {
      "cell_type": "markdown",
      "metadata": {},
      "source": [
        "### Modelado: Regresión Logística\n",
        "\n",
        "Entrenams modelo de Regresión Logística sobre las características vectorizadas. La Regresión Logística podria ser adecuada para este problema binario, ya que es simple, interpretable y eficiente cuando se trabaja con datos dispersos."
      ]
    },
    {
      "cell_type": "code",
      "execution_count": null,
      "metadata": {},
      "outputs": [
        {
          "name": "stdout",
          "output_type": "stream",
          "text": [
            "Modelo entrenado correctamente.\n"
          ]
        }
      ],
      "source": [
        "# Extraer la variable target y convertirla a entero\n",
        "y_train = train['Label'].astype(int)\n",
        "y_test = test['Label'].astype(int)\n",
        "\n",
        "# Inicializar y entrenar el modelo de Regresión Logística\n",
        "model = LogisticRegression(max_iter=1000)\n",
        "model.fit(X_train_tfidf, y_train)\n",
        "\n",
        "print('Modelo entrenado correctamente.')"
      ]
    },
    {
      "cell_type": "markdown",
      "metadata": {},
      "source": [
        "###  Evaluación del Modelo\n",
        "\n",
        "Se evalúa el desempeño del modelo utilizando métricas comunes de clasificación (accuracy, precision, recall, F1-score y la matriz de confusión) para justificar la selección del modelo."
      ]
    },
    {
      "cell_type": "code",
      "execution_count": null,
      "metadata": {},
      "outputs": [
        {
          "name": "stdout",
          "output_type": "stream",
          "text": [
            "Accuracy: 0.8948251501236312\n",
            "\n",
            "Reporte de Clasificación:\n",
            "              precision    recall  f1-score   support\n",
            "\n",
            "           0       0.94      0.81      0.87      4759\n",
            "           1       0.87      0.96      0.91      6565\n",
            "\n",
            "    accuracy                           0.89     11324\n",
            "   macro avg       0.90      0.88      0.89     11324\n",
            "weighted avg       0.90      0.89      0.89     11324\n",
            "\n",
            "Matriz de Confusión:\n",
            "[[3832  927]\n",
            " [ 264 6301]]\n"
          ]
        }
      ],
      "source": [
        "# Realizar predicciones sobre el conjunto de prueba\n",
        "y_pred = model.predict(X_test_tfidf)\n",
        "\n",
        "# Calcular y mostrar las métricas de evaluación\n",
        "accuracy = accuracy_score(y_test, y_pred)\n",
        "y1_test = y_test\n",
        "y1_pred = y_pred\n",
        "print('Accuracy:', accuracy)\n",
        "\n",
        "print('\\nReporte de Clasificación:')\n",
        "print(classification_report(y_test, y_pred))\n",
        "\n",
        "print('Matriz de Confusión:')\n",
        "print(confusion_matrix(y_test, y_pred))"
      ]
    },
    {
      "cell_type": "markdown",
      "metadata": {},
      "source": [
        "### Grafica - Curva ROC\n",
        "La Curva ROC (Receiver Operating Characteristic) junto con el valor del AUC (Area Under the Curve) es una de las gráficas más completas para evidenciar el funcionamiento del modelo de clasificación, ya que muestra cómo se comporta el modelo a diferentes umbrales de decisión.\n",
        "\n"
      ]
    },
    {
      "cell_type": "code",
      "execution_count": null,
      "metadata": {},
      "outputs": [
        {
          "data": {
            "image/png": "[encoded data removed]",
            "text/plain": [
              "<Figure size 800x600 with 1 Axes>"
            ]
          },
          "metadata": {},
          "output_type": "display_data"
        }
      ],
      "source": [
        "# Obtener las probabilidades de la clase positiva (por ejemplo, noticias falsas)\n",
        "y_prob = model.predict_proba(X_test_tfidf)[:, 1]\n",
        "y1_prob = y_prob\n",
        "# Calcular la tasa de verdaderos positivos (TPR) y la tasa de falsos positivos (FPR)\n",
        "fpr, tpr, thresholds = roc_curve(y_test, y_prob)\n",
        "roc_auc = auc(fpr, tpr)\n",
        "\n",
        "# Graficar la curva ROC\n",
        "plt.figure(figsize=(8,6))\n",
        "plt.plot(fpr, tpr, color='blue', lw=2, label=f'Curva ROC (AUC = {roc_auc:.2f})')\n",
        "plt.plot([0, 1], [0, 1], color='grey', lw=1, linestyle='--')  # Línea de referencia (modelo aleatorio)\n",
        "plt.xlabel('Tasa de Falsos Positivos')\n",
        "plt.ylabel('Tasa de Verdaderos Positivos')\n",
        "plt.title('Curva ROC')\n",
        "plt.legend(loc=\"lower right\")\n",
        "plt.grid(True)\n",
        "plt.show()\n",
        "\n",
        "\n"
      ]
    },
    {
      "cell_type": "markdown",
      "metadata": {},
      "source": [
        "### Conclusiones modelo 1 \n",
        "\n",
        "El modelo, entrenado con 45294 muestras y evaluado con 11324 muestras, demuestra un rendimiento robusto para la tarea de detección de noticias falsas. Según el reporte de clasificación, se observa una alta accuracy junto con valores consistentes en precisión, recall y F1-score para ambas clases, lo que indica que el clasificador (en este caso, Regresión Logística) es capaz de distinguir eficazmente entre noticias reales y falsas. La matriz de confusión respalda estos resultados, evidenciando que la mayoría de las predicciones son correctas y que hay muy pocos casos de falsos positivos y falsos negativos. "
      ]
    },
    {
      "cell_type": "markdown",
      "metadata": {},
      "source": [
        "# siguientes modelos\n",
        "### **Justificación de la Implementación de Múltiples Modelos**  \n",
        "\n",
        "La decisión de utilizar diversos modelos de aprendizaje automático se debe a la disponibilidad de los recursos computacionales necesarios para ejecutar y comparar varios algoritmos de manera simultánea. Esta estrategia permite identificar cuál modelo ofrece los mejores resultados de forma rápida y eficiente, sin necesidad de realizar pruebas manuales independientes.  \n",
        "\n",
        "Al probar diferentes modelos como árboles de decisión, Random Forest, SVM, KNN y regresión logística, se obtienen múltiples perspectivas del problema, lo que facilita seleccionar el modelo más preciso para detectar noticias falsas. Además, al automatizar este proceso, se ahorra tiempo y se garantiza una evaluación objetiva y reproducible del rendimiento de cada modelo.  \n"
      ]
    },
    {
      "cell_type": "code",
      "execution_count": null,
      "metadata": {},
      "outputs": [
        {
          "name": "stdout",
          "output_type": "stream",
          "text": [
            "K-Nearest Neighbors - Accuracy: 0.7473, F1: 0.7921, ROC_AUC: 0.7873\n",
            "Decision Tree - Accuracy: 0.8398, F1: 0.8775, ROC_AUC: 0.8364\n",
            "Random Forest - Accuracy: 0.9162, F1: 0.9299, ROC_AUC: 0.9611\n",
            "Naive Bayes - Accuracy: 0.8476, F1: 0.8804, ROC_AUC: 0.9154\n"
          ]
        }
      ],
      "source": [
        "# Models to evaluate\n",
        "models = {\n",
        "    'K-Nearest Neighbors': KNeighborsClassifier(n_neighbors=5),\n",
        "    'Decision Tree': DecisionTreeClassifier(max_depth=10, random_state=33),\n",
        "    'Random Forest': RandomForestClassifier(n_estimators=100, random_state=33),\n",
        "    'Naive Bayes': MultinomialNB()\n",
        "}\n",
        "\n",
        "# Function to train and evaluate a model\n",
        "def evaluate_model(model, X_train_vec, X_test_vec, y_train, y_test):\n",
        "    model.fit(X_train_vec, y_train)\n",
        "    y_pred = model.predict(X_test_vec)\n",
        "    y_prob = model.predict_proba(X_test_vec)[:, 1] if hasattr(model, 'predict_proba') else None\n",
        "\n",
        "    metrics = {\n",
        "        'accuracy': accuracy_score(y_test, y_pred),\n",
        "        'precision': precision_score(y_test, y_pred),\n",
        "        'recall': recall_score(y_test, y_pred),\n",
        "        'f1_score': f1_score(y_test, y_pred),\n",
        "        'roc_auc': roc_auc_score(y_test, y_prob) if y_prob is not None else None,\n",
        "        'conf_matrix': confusion_matrix(y_test, y_pred)\n",
        "    }\n",
        "    \n",
        "\n",
        "    print(f\"\\nReporte de Clasificación para {model.__class__.__name__}:\")\n",
        "    print(classification_report(y_test, y_pred))\n",
        "    print('Matriz de Confusión:')\n",
        "    print(confusion_matrix(y_test, y_pred))\n",
        "    \n",
        "    \n",
        "    # Calcular la tasa de verdaderos positivos (TPR) y la tasa de falsos positivos (FPR)\n",
        "    fpr, tpr, thresholds = roc_curve(y_test, y_prob)\n",
        "    roc_auc = auc(fpr, tpr)\n",
        "\n",
        "    \n",
        "    # Graficar la curva ROC\n",
        "    plt.figure(figsize=(8,6))\n",
        "    plt.plot(fpr, tpr, color='blue', lw=2, label=f'Curva ROC de {model.__class__.__name__} (AUC = {roc_auc:.2f})')\n",
        "    plt.plot([0, 1], [0, 1], color='grey', lw=1, linestyle='--')  # Línea de referencia (modelo aleatorio)\n",
        "    plt.xlabel('Tasa de Falsos Positivos')\n",
        "    plt.ylabel('Tasa de Verdaderos Positivos')\n",
        "    plt.title('Curva ROC')\n",
        "    plt.legend(loc=\"lower right\")\n",
        "    plt.grid(True)\n",
        "    plt.show()\n",
        "    \n",
        "    return metrics\n",
        "\n",
        "# Evaluate all models\n",
        "results = {}\n",
        "for name, model in models.items():\n",
        "    metrics = evaluate_model(model, X_train_tfidf, X_test_tfidf, y_train, y_test)\n",
        "    results[name] = metrics\n",
        "    print(f\"{name} - Accuracy: {metrics['accuracy']:.4f}, F1: {metrics['f1_score']:.4f}, ROC_AUC: {metrics['roc_auc']:.4f}\")\n"
      ]
    },
    {
      "cell_type": "code",
      "execution_count": null,
      "metadata": {},
      "outputs": [
        {
          "data": {
            "image/png": "[encoded data removed]",
            "text/plain": [
              "<Figure size 1200x600 with 1 Axes>"
            ]
          },
          "metadata": {},
          "output_type": "display_data"
        }
      ],
      "source": [
        "#add logistic regression\n",
        "log_metrics = {\n",
        "        'accuracy': accuracy_score(y1_test, y1_pred),\n",
        "        'precision': precision_score(y1_test, y1_pred),\n",
        "        'recall': recall_score(y1_test, y1_pred),\n",
        "        'f1_score': f1_score(y1_test, y1_pred),\n",
        "        'roc_auc': roc_auc_score(y1_test, y1_prob) if y_prob is not None else None,\n",
        "        'conf_matrix': confusion_matrix(y1_test, y1_pred)\n",
        "    }\n",
        "\n",
        "results[\"LogisticRegression\"] = log_metrics\n",
        "\n",
        "\n",
        "# Compare models\n",
        "df_results = pd.DataFrame.from_dict(results, orient='index').drop(columns=['conf_matrix'])\n",
        "df_results.plot(kind='bar', figsize=(12, 6))\n",
        "plt.title('Model Performance Comparison')\n",
        "plt.ylabel('Score')\n",
        "plt.xticks(rotation=45)\n",
        "plt.show()\n"
      ]
    },
    {
      "cell_type": "markdown",
      "metadata": {},
      "source": []
    }
  ],
  "metadata": {
    "colab": {
      "provenance": [],
      "toc_visible": true
    },
    "kernelspec": {
      "display_name": "Python 3",
      "language": "python",
      "name": "python3"
    },
    "language_info": {
      "codemirror_mode": {
        "name": "ipython",
        "version": 3
      },
      "file_extension": ".py",
      "mimetype": "text/x-python",
      "name": "python",
      "nbconvert_exporter": "python",
      "pygments_lexer": "ipython3",
      "version": "3.13.0"
    }
  },
  "nbformat": 4,
  "nbformat_minor": 0
}
